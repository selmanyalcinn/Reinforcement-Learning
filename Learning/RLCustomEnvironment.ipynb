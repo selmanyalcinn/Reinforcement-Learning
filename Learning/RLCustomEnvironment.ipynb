{
  "nbformat": 4,
  "nbformat_minor": 0,
  "metadata": {
    "colab": {
      "provenance": []
    },
    "kernelspec": {
      "name": "python3",
      "display_name": "Python 3"
    },
    "language_info": {
      "name": "python"
    }
  },
  "cells": [
    {
      "cell_type": "code",
      "source": [
        "from gym import Env\n",
        "from gym.spaces import Discrete,Box\n",
        "import numpy as np\n",
        "import random"
      ],
      "metadata": {
        "id": "yYhCBvrlz0_m"
      },
      "execution_count": null,
      "outputs": []
    },
    {
      "cell_type": "code",
      "source": [
        "class showerEnv():\n",
        "  def __init__(self):\n",
        "    #agentin yapacağı işleri tanımladık duşun sıcaklığını sabit tutabilir düşürebilr veye arttırabilir bu işlemler birbirinden bağımsız işlemler o yüzden discrete olarak düşünülebilir\n",
        "    self.action_space=Discrete(3)\n",
        "    #gözlem ortamının ayarlanması\n",
        "    self.observation_space=Box(low=np.array([0]),high=np.array([100]))\n",
        "    #bir duş başlangıç sıcaklığı ayaralnıyor\n",
        "    self.state=38+random.randint(-3,3)\n",
        "    #her bir adım 60 saniye boyunca çalışacak\n",
        "    self.shower_length=60\n",
        "  def step(self,action):\n",
        "    #simülasyon süresi ilerletiliyor ve stateime eylemimi uyguluyorum bizim durumumuzda 0,1,2 olmak üzere actionlarımız var 0,1,2yi sıcaklık değişimi olarak uygulamak için stateden action-1 diyerek çıkarıyoruz\n",
        "    self.state+=action-1\n",
        "    self.shower_length-=1\n",
        "\n",
        "\n",
        "    #ödül durumumuzu tanımlıyoruz\n",
        "    if self.state>=37 and self.state<=39:\n",
        "      reward=1\n",
        "    else:\n",
        "      reward=-1\n",
        "    #adımın tamamlanması gerekip gerekmediğinin kontrolü\n",
        "    if self.shower_length<=0:\n",
        "      done=True\n",
        "    else:\n",
        "      done=False\n",
        "\n",
        "    info={}\n",
        "    return self.state,reward,done,info\n",
        "\n",
        "\n",
        "  def render(self):\n",
        "    #visualisation stuff we will write our gazebo stuff here to track our rovers movements in a simulation environment\n",
        "    pass\n",
        "  def reset(self):\n",
        "    #adım tamamlandıktan sonra ortamımı sıfırlıyorum ki sonraki adım başlayabilsin\n",
        "    self.state=np.array([38+random.randint(-3,3)]).astype(float)\n",
        "    self.shower_length=60\n",
        "    return self.state\n",
        "\n"
      ],
      "metadata": {
        "id": "_zuIUuou0CoI"
      },
      "execution_count": null,
      "outputs": []
    },
    {
      "cell_type": "code",
      "source": [
        "env=showerEnv()"
      ],
      "metadata": {
        "colab": {
          "base_uri": "https://localhost:8080/"
        },
        "id": "tfF5kyHHGTcY",
        "outputId": "af8a57d6-8116-4678-90e4-391410f3b143"
      },
      "execution_count": null,
      "outputs": [
        {
          "output_type": "stream",
          "name": "stderr",
          "text": [
            "/usr/local/lib/python3.11/dist-packages/gym/spaces/box.py:128: UserWarning: \u001b[33mWARN: Box bound precision lowered by casting to float32\u001b[0m\n",
            "  logger.warn(f\"Box bound precision lowered by casting to {self.dtype}\")\n"
          ]
        }
      ]
    },
    {
      "cell_type": "code",
      "source": [
        "env.action_space.sample()"
      ],
      "metadata": {
        "colab": {
          "base_uri": "https://localhost:8080/"
        },
        "id": "OTpU1Q3cGcw_",
        "outputId": "6ce8b359-98bd-4fa2-bd72-ac7a30a17766"
      },
      "execution_count": null,
      "outputs": [
        {
          "output_type": "execute_result",
          "data": {
            "text/plain": [
              "0"
            ]
          },
          "metadata": {},
          "execution_count": 23
        }
      ]
    },
    {
      "cell_type": "code",
      "source": [
        "episodes = 10\n",
        "for episode in range(1, episodes+1):\n",
        "    state = env.reset()\n",
        "    done = False\n",
        "    score = 0\n",
        "\n",
        "    while not done:\n",
        "        #env.render()\n",
        "        action = env.action_space.sample()\n",
        "        n_state, reward, done, info = env.step(action)\n",
        "        score+=reward\n",
        "    print('Episode:{} Score:{}'.format(episode, score))"
      ],
      "metadata": {
        "colab": {
          "base_uri": "https://localhost:8080/"
        },
        "id": "Ep7qv-ilGnCv",
        "outputId": "a9c05a2d-4946-49f9-bb9f-dea9c214a625"
      },
      "execution_count": null,
      "outputs": [
        {
          "output_type": "stream",
          "name": "stdout",
          "text": [
            "Episode:1 Score:-30\n",
            "Episode:2 Score:-30\n",
            "Episode:3 Score:-36\n",
            "Episode:4 Score:-42\n",
            "Episode:5 Score:-60\n",
            "Episode:6 Score:-60\n",
            "Episode:7 Score:-56\n",
            "Episode:8 Score:-48\n",
            "Episode:9 Score:-58\n",
            "Episode:10 Score:-28\n"
          ]
        }
      ]
    }
  ]
}